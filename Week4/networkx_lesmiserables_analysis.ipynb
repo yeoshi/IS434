{
 "cells": [
  {
   "cell_type": "markdown",
   "id": "3d85002e",
   "metadata": {},
   "source": [
    "Social Network Analysis - Part 1 - Analysis of Les Miserables\n",
    "\n",
    "Ref: https://glowingpython.blogspot.com/2012/11/first-steps-with-networx.html"
   ]
  },
  {
   "cell_type": "code",
   "execution_count": null,
   "id": "f171c99d",
   "metadata": {},
   "outputs": [],
   "source": [
    "# Import packages\n",
    "import networkx as nx\n",
    "import matplotlib.pyplot as plt"
   ]
  },
  {
   "cell_type": "code",
   "execution_count": null,
   "id": "8a4c04b5",
   "metadata": {},
   "outputs": [],
   "source": [
    "# Read the graph (GML format)\n",
    "\n",
    "G = nx.read_gml('DATA/lesmiserables.gml')"
   ]
  },
  {
   "cell_type": "code",
   "execution_count": null,
   "id": "bc835b80",
   "metadata": {},
   "outputs": [],
   "source": [
    "# Check if this is a directed graph\n",
    "nx.is_directed(G)"
   ]
  },
  {
   "cell_type": "code",
   "execution_count": null,
   "id": "dd6dfdf7",
   "metadata": {},
   "outputs": [],
   "source": [
    "# Draw the full network\n",
    "# nx.draw_spring(G, node_size=0, edge_color='b', alpha=.2, font_size=10)\n",
    "\n",
    "plt.figure(figsize = (15, 15))\n",
    "nx.draw(G, with_labels=True, font_weight='bold', node_size=1000, node_color='g', font_size=10)\n",
    "plt.show()"
   ]
  },
  {
   "cell_type": "code",
   "execution_count": null,
   "id": "5fa0c8e6",
   "metadata": {},
   "outputs": [],
   "source": [
    "# Network statistics\n",
    "\n",
    "print(\"Number of nodes in G: \", G.number_of_nodes())\n",
    "print(\"Number of edges in G: \", G.number_of_edges())"
   ]
  },
  {
   "cell_type": "code",
   "execution_count": null,
   "id": "04796518",
   "metadata": {},
   "outputs": [],
   "source": [
    "# Distribution of the degree\n",
    "d = nx.degree(G)\n",
    "# plt.hist(d.values(), bins=15)\n",
    "d"
   ]
  },
  {
   "cell_type": "markdown",
   "id": "e2e2d505",
   "metadata": {},
   "source": [
    "Key facts about the Les Miserables graph can be revealed with a measure of graph centrality called betweenness centrality. \n",
    "\n",
    "networkx offers an implementation, along with a host of other graph analysis tools."
   ]
  },
  {
   "cell_type": "code",
   "execution_count": null,
   "id": "14a514e6",
   "metadata": {},
   "outputs": [],
   "source": [
    "'''\n",
    "Like the other centrality measures discussed below, betweenness_centrality \n",
    "returns a dictionary associating each node in the graph with a betweenness score.\n",
    "\n",
    "Higher is better.\n",
    "That is, higher means that node is evaluated as occupying a more central position in the graph:\n",
    "'''\n",
    "\n",
    "betweenness = nx.betweenness_centrality(G)\n",
    "betweenness"
   ]
  },
  {
   "cell_type": "code",
   "execution_count": null,
   "id": "efdda977",
   "metadata": {},
   "outputs": [],
   "source": [
    "'''\n",
    "Computing centrality measures is often followed by sorting the results \n",
    "to find the nodes with highest centrality.\n",
    "\n",
    "Here’s an example of how to do that.\n",
    "\n",
    "Dictionaries have no concept of order, so to sort their contents you must\n",
    "first turn them into lists, and then sort the resulting list:\n",
    "'''\n",
    "b_il = dict(sorted(betweenness.items(), key=lambda item: item[1],reverse=True))\n",
    "b_il"
   ]
  },
  {
   "cell_type": "code",
   "execution_count": null,
   "id": "52005963",
   "metadata": {},
   "outputs": [],
   "source": []
  }
 ],
 "metadata": {
  "kernelspec": {
   "display_name": "Python 3 (ipykernel)",
   "language": "python",
   "name": "python3"
  },
  "language_info": {
   "codemirror_mode": {
    "name": "ipython",
    "version": 3
   },
   "file_extension": ".py",
   "mimetype": "text/x-python",
   "name": "python",
   "nbconvert_exporter": "python",
   "pygments_lexer": "ipython3",
   "version": "3.9.7"
  }
 },
 "nbformat": 4,
 "nbformat_minor": 5
}
