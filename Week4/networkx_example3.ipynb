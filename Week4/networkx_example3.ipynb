{
 "cells": [
  {
   "cell_type": "markdown",
   "id": "0fcc9d2b",
   "metadata": {},
   "source": [
    "Social Network Analysis - Part 1 - Example 3\n",
    "\n",
    "This guide can help you start working with NetworkX package.\n",
    "\n",
    "In this exercise, we will draw a graph - where the node size varies depending on the node's Degree Centrality.\n",
    "The higher the degree centrality, the larger the node's size.\n",
    "\n",
    "Ref: https://networkx.github.io/documentation/stable/tutorial.html"
   ]
  },
  {
   "cell_type": "code",
   "execution_count": null,
   "id": "68cdcfbf",
   "metadata": {},
   "outputs": [],
   "source": [
    "# Import packages\n",
    "import networkx as nx\n",
    "import matplotlib.pyplot as plt"
   ]
  },
  {
   "cell_type": "code",
   "execution_count": null,
   "id": "03a968e4",
   "metadata": {},
   "outputs": [],
   "source": [
    "# ### Creating a graph\n",
    "#\n",
    "# Create an empty graph with no nodes and no edges.\n",
    "\n",
    "# By definition, a `Graph` is a collection of nodes (vertices) along with\n",
    "# identified pairs of nodes (called edges, links, etc).\n",
    "\n",
    "G = nx.Graph()"
   ]
  },
  {
   "cell_type": "code",
   "execution_count": null,
   "id": "0e0c230e",
   "metadata": {},
   "outputs": [],
   "source": [
    "# Adding new nodes\n",
    "\n",
    "G.add_node(\"Alice\")\n",
    "G.add_node(\"Bob\")\n",
    "\n",
    "# Or, if you have a list of node names in a List, you can specify the list:\n",
    "G.add_nodes_from([\"Cindy\", \"David\", \"Eleanor\", \"Frank\", \"Gina\", \"Henry\", \"Ice\", \"John\"])"
   ]
  },
  {
   "cell_type": "code",
   "execution_count": null,
   "id": "3c817d1f",
   "metadata": {},
   "outputs": [],
   "source": [
    "# # Edges\n",
    "#\n",
    "# `G` can also be grown by adding one edge at a time,\n",
    "\n",
    "G.add_edge(\"Alice\", \"Bob\", color='r', weight=2)\n",
    "\n",
    "e = (\"Bob\", \"Cindy\")\n",
    "G.add_edge(*e, color='r', weight=2)  # unpack edge tuple*\n",
    "\n",
    "# by adding a list of edges,\n",
    "G.add_edges_from([ \n",
    "    (\"Alice\", \"Cindy\"), (\"Cindy\", \"David\"), (\"David\", \"Eleanor\"), (\"Eleanor\", \"Frank\"), (\"David\", \"Frank\"),\n",
    "    (\"Cindy\", \"Gina\"), (\"Cindy\", \"Henry\"), (\"Cindy\", \"Ice\"), (\"Cindy\", \"John\")\n",
    "    ]\n",
    "    , color='r', weight=2\n",
    ")"
   ]
  },
  {
   "cell_type": "code",
   "execution_count": null,
   "id": "e0158cea",
   "metadata": {},
   "outputs": [],
   "source": [
    "# Draw\n",
    "plt.figure(figsize = (10,9))\n",
    "nx.draw(G, with_labels=True, node_size=2000, node_color='r', font_size=10)\n",
    "plt.show()\n",
    "\n",
    "# If you want to save the graph as an image file\n",
    "#plt.savefig(\"mygraph1.png\", format = \"png\", dpi = 300)"
   ]
  },
  {
   "cell_type": "code",
   "execution_count": null,
   "id": "847e49b6",
   "metadata": {},
   "outputs": [],
   "source": [
    "# Network statistics\n",
    "\n",
    "print(\"Number of nodes in G: \", G.number_of_nodes())\n",
    "print(\"Number of edges in G: \", G.number_of_edges())"
   ]
  },
  {
   "cell_type": "code",
   "execution_count": null,
   "id": "746e629c",
   "metadata": {},
   "outputs": [],
   "source": [
    "# Compute Nodes' Degree Centrality\n",
    "d = nx.degree(G)\n",
    "print(d)"
   ]
  },
  {
   "cell_type": "code",
   "execution_count": null,
   "id": "6e7e729d",
   "metadata": {},
   "outputs": [],
   "source": [
    "'''\n",
    "Troubleshooting NetworkX\n",
    "\n",
    "Ref: https://stackoverflow.com/questions/16566871/node-size-dependent-on-the-node-degree-on-networkx\n",
    "\n",
    "If you've already added the nodes to your graph using something like\n",
    "\n",
    "G.add_nodes_from(nodes),\n",
    "\n",
    "then I found that d = nx.degree(G) may not return the degrees in the same order as your nodes.\n",
    "\n",
    "'''\n",
    "d = [(d[node]) for node in G.nodes()]\n",
    "print(d)"
   ]
  },
  {
   "cell_type": "code",
   "execution_count": null,
   "id": "9015d130",
   "metadata": {},
   "outputs": [],
   "source": [
    "# Draw again\n",
    "plt.figure(figsize = (10,9))\n",
    "\n",
    "nx.draw(G, with_labels=True, node_color='y', font_size=10,\n",
    "        node_size=[v * 500 for v in d])\n",
    "plt.show()"
   ]
  },
  {
   "cell_type": "code",
   "execution_count": null,
   "id": "43ea1bec",
   "metadata": {},
   "outputs": [],
   "source": []
  }
 ],
 "metadata": {
  "kernelspec": {
   "display_name": "Python 3 (ipykernel)",
   "language": "python",
   "name": "python3"
  },
  "language_info": {
   "codemirror_mode": {
    "name": "ipython",
    "version": 3
   },
   "file_extension": ".py",
   "mimetype": "text/x-python",
   "name": "python",
   "nbconvert_exporter": "python",
   "pygments_lexer": "ipython3",
   "version": "3.9.7"
  }
 },
 "nbformat": 4,
 "nbformat_minor": 5
}
