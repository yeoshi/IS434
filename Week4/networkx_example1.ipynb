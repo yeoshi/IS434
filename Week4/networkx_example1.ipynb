{
 "cells": [
  {
   "cell_type": "markdown",
   "id": "b3bb1d52",
   "metadata": {},
   "source": [
    "Social Network Analysis - Part 1 - Example 1\n",
    "\n",
    "This guide can help you start working with NetworkX package.\n",
    "\n",
    "Ref: https://networkx.github.io/documentation/stable/tutorial.html"
   ]
  },
  {
   "cell_type": "code",
   "execution_count": null,
   "id": "66b9d463",
   "metadata": {},
   "outputs": [],
   "source": [
    "# Import packages\n",
    "import networkx as nx\n",
    "import matplotlib.pyplot as plt"
   ]
  },
  {
   "cell_type": "code",
   "execution_count": null,
   "id": "55c87363",
   "metadata": {},
   "outputs": [],
   "source": [
    "# ### Creating a graph\n",
    "#\n",
    "# Create an empty graph with no nodes and no edges.\n",
    "\n",
    "# By definition, a `Graph` is a collection of nodes (vertices) along with\n",
    "# identified pairs of nodes (called edges, links, etc).\n",
    "\n",
    "G = nx.Graph()"
   ]
  },
  {
   "cell_type": "code",
   "execution_count": null,
   "id": "42abaf43",
   "metadata": {},
   "outputs": [],
   "source": [
    "# # Nodes\n",
    "#\n",
    "# The graph `G` can be grown in several ways.  NetworkX includes many graph\n",
    "# generator functions and facilities to read and write graphs in many formats.\n",
    "# To get started though we’ll look at simple manipulations.  You can add one node\n",
    "# at a time.\n",
    "\n",
    "G.add_node(1)\n",
    "\n",
    "# Or, if you have a list of node names in a List, you can specify the list:\n",
    "\n",
    "G.add_nodes_from([2, 3, 4, 5, 6])"
   ]
  },
  {
   "cell_type": "code",
   "execution_count": null,
   "id": "0e08943d",
   "metadata": {},
   "outputs": [],
   "source": [
    "# # Edges\n",
    "#\n",
    "# `G` can also be grown by adding one edge at a time,\n",
    "\n",
    "G.add_edge(1, 2)\n",
    "\n",
    "e = (2, 3)\n",
    "G.add_edge(*e)  # unpack edge tuple*\n",
    "\n",
    "# by adding a list of edges,\n",
    "G.add_edges_from([(1, 2), (1, 3), (3, 4), (4, 5), (5, 6)])"
   ]
  },
  {
   "cell_type": "code",
   "execution_count": null,
   "id": "4eb8b51f",
   "metadata": {},
   "outputs": [],
   "source": [
    "# Draw a network and see what it looks like\n",
    "nx.draw(G, with_labels=True, font_weight='bold')"
   ]
  },
  {
   "cell_type": "code",
   "execution_count": null,
   "id": "cd5eeb1c",
   "metadata": {},
   "outputs": [],
   "source": [
    "# Network statistics\n",
    "\n",
    "print(\"Number of nodes in G: \", G.number_of_nodes())\n",
    "print(\"Number of edges in G: \", G.number_of_edges())"
   ]
  },
  {
   "cell_type": "code",
   "execution_count": null,
   "id": "37ddaa00",
   "metadata": {},
   "outputs": [],
   "source": [
    "# We can examine the nodes and edges.\n",
    "# Four basic graph properties facilitate reporting:\n",
    "#    G.nodes\n",
    "#    G.edges\n",
    "#    G.adj\n",
    "#    G.degree\n",
    "\n",
    "# These are set-like views of the nodes, edges, neighbors (adjacencies), and degrees of nodes in a graph.\n",
    "# They offer a continually updated read-only view into the graph structure.\n",
    "\n",
    "# They are also dict-like in that you can look up node and edge data attributes via the views\n",
    "# and iterate with data attributes using methods\n",
    "#   .items()\n",
    "#   .data('span')\n",
    "\n",
    "# If you want a specific container type instead of a view, you can specify one.\n",
    "\n",
    "# Here we use lists, though sets, dicts, tuples and other containers may be better in other contexts.\n",
    "\n",
    "print(\"Nodes are:\\n\\t\", list(G.nodes) )\n",
    "print(\"Edges are:\\n\\t\", list(G.edges) )\n",
    "print(\"Who are Node 1's neighbors?\\n\\t\", list(G.adj[1]) ) # or list(G.neighbors(1))\n",
    "print(\"Number of edges incident to Node 1:\\n\\t\", G.degree[1] ) # the number of edges incident to 1"
   ]
  },
  {
   "cell_type": "code",
   "execution_count": null,
   "id": "8ef078a5",
   "metadata": {},
   "outputs": [],
   "source": [
    "# One can remove nodes and edges from the graph in a similar fashion to adding.\n",
    "# Use methods\n",
    "#    `Graph.remove_node()`,\n",
    "#    `Graph.remove_nodes_from()`,\n",
    "#    `Graph.remove_edge()`\n",
    "#       and\n",
    "#    `Graph.remove_edges_from()`\n",
    "\n",
    "G.remove_node(6)\n",
    "G.remove_nodes_from([4, 5])\n",
    "\n",
    "print(\"Nodes are:\\n\\t\", list(G.nodes) )\n",
    "print(\"Edges are:\\n\\t\", list(G.edges) )\n",
    "\n",
    "# Draw a network and see what it looks like\n",
    "nx.draw(G, with_labels=True, font_weight='bold')"
   ]
  },
  {
   "cell_type": "code",
   "execution_count": null,
   "id": "da12acda",
   "metadata": {},
   "outputs": [],
   "source": [
    "# Remove an edge\n",
    "\n",
    "G.remove_edge(2, 3)\n",
    "print(\"Nodes are:\\n\\t\", list(G.nodes) )\n",
    "print(\"Edges are:\\n\\t\", list(G.edges) )\n",
    "\n",
    "# Draw a network and see what it looks like\n",
    "nx.draw(G, with_labels=True, font_weight='bold')"
   ]
  },
  {
   "cell_type": "code",
   "execution_count": null,
   "id": "d94f61e5",
   "metadata": {},
   "outputs": [],
   "source": []
  }
 ],
 "metadata": {
  "kernelspec": {
   "display_name": "Python 3 (ipykernel)",
   "language": "python",
   "name": "python3"
  },
  "language_info": {
   "codemirror_mode": {
    "name": "ipython",
    "version": 3
   },
   "file_extension": ".py",
   "mimetype": "text/x-python",
   "name": "python",
   "nbconvert_exporter": "python",
   "pygments_lexer": "ipython3",
   "version": "3.9.7"
  }
 },
 "nbformat": 4,
 "nbformat_minor": 5
}
