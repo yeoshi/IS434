{
 "cells": [
  {
   "cell_type": "markdown",
   "id": "3d85002e",
   "metadata": {},
   "source": [
    "Social Network Analysis - Part 1 - Analysis of Les Miserables (using igraph)\n",
    "\n",
    "IMPORTANT: pip install igraph\n",
    "\n",
    "Ref: https://shiqining.georgetown.domains/visualizations/igraph-networkx/"
   ]
  },
  {
   "cell_type": "code",
   "execution_count": null,
   "id": "f171c99d",
   "metadata": {},
   "outputs": [],
   "source": [
    "#Import libraries\n",
    "import matplotlib.pyplot as plt\n",
    "from igraph import *\n",
    "import igraph\n",
    "import pandas as pd"
   ]
  },
  {
   "cell_type": "code",
   "execution_count": null,
   "id": "8a4c04b5",
   "metadata": {},
   "outputs": [],
   "source": [
    "# Read the graph (GML format)\n",
    "\n",
    "G = Graph.Read_GML('DATA/lesmiserables.gml')"
   ]
  },
  {
   "cell_type": "code",
   "execution_count": null,
   "id": "bc835b80",
   "metadata": {},
   "outputs": [],
   "source": [
    "# Check degree of each node\n",
    "G.degree()\n",
    "dict((x, G.degree().count(x)) for x in set(G.degree()))"
   ]
  },
  {
   "cell_type": "code",
   "execution_count": null,
   "id": "52005963",
   "metadata": {},
   "outputs": [],
   "source": [
    "# Set the size for each vertex and vertex label based on degree\n",
    "size_miserables = []\n",
    "\n",
    "for i in range(len(G.degree())):\n",
    "    size_miserables.append(G.degree()[i]+15)"
   ]
  },
  {
   "cell_type": "code",
   "execution_count": null,
   "id": "2ec141d1",
   "metadata": {},
   "outputs": [],
   "source": [
    "# Create python dictionary to store plot arguments\n",
    "vis_gml = {}\n",
    "\n",
    "#Pass size argument to vis_gml dictionary, \n",
    "#so the labels and nodes sizes are different based on degree\n",
    "vis_gml[\"vertex_label_size\"] = size_miserables\n",
    "vis_gml[\"vertex_size\"] = size_miserables\n",
    "vis_gml[\"vertex_label_color\"] = 'black'\n",
    "vis_gml[\"edge_color\"] = 'silver'\n",
    "\n",
    "#Set the margin near the plot's edge\n",
    "vis_gml[\"margin\"] = 80\n",
    "vis_gml[\"bbox\"] = (1500, 1500)"
   ]
  },
  {
   "cell_type": "code",
   "execution_count": null,
   "id": "63b26275",
   "metadata": {},
   "outputs": [],
   "source": [
    "# Write color argument for the nodes\n",
    "miserables_col = []\n",
    "\n",
    "for i in range(len(igraph.VertexSeq(G))):\n",
    "    \n",
    "    if G.degree()[i] >= 15:\n",
    "        miserables_col.append('darkgreen')\n",
    "    \n",
    "    elif G.degree()[i] >= 10 and G.degree()[i] < 15:\n",
    "        miserables_col.append('tomato')\n",
    "    \n",
    "    elif G.degree()[i] >= 6 and G.degree()[i] < 10:\n",
    "        miserables_col.append('pink')\n",
    "    \n",
    "    else:\n",
    "        miserables_col.append('lightskyblue')\n",
    "        \n",
    "vis_gml['vertex_color'] = miserables_col   "
   ]
  },
  {
   "cell_type": "code",
   "execution_count": null,
   "id": "81f68531",
   "metadata": {},
   "outputs": [],
   "source": [
    "# Set layout and print the plot\n",
    "layout = G.layout('kk')\n",
    "plot = igraph.plot(G, **vis_gml, layout = layout)\n",
    "plot.show()"
   ]
  },
  {
   "cell_type": "code",
   "execution_count": null,
   "id": "11edc076",
   "metadata": {},
   "outputs": [],
   "source": []
  }
 ],
 "metadata": {
  "kernelspec": {
   "display_name": "Python 3 (ipykernel)",
   "language": "python",
   "name": "python3"
  },
  "language_info": {
   "codemirror_mode": {
    "name": "ipython",
    "version": 3
   },
   "file_extension": ".py",
   "mimetype": "text/x-python",
   "name": "python",
   "nbconvert_exporter": "python",
   "pygments_lexer": "ipython3",
   "version": "3.9.7"
  }
 },
 "nbformat": 4,
 "nbformat_minor": 5
}
