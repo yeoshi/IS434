{
 "cells": [
  {
   "cell_type": "markdown",
   "id": "39d113a9",
   "metadata": {},
   "source": [
    "Social Network Analysis - Part 1 - Example 2\n",
    "\n",
    "This guide can help you start working with NetworkX package.\n",
    "\n",
    "In this exercise, we will draw a graph and attempt to change Edge attribute (color & width).\n",
    "\n",
    "Ref: https://networkx.github.io/documentation/stable/tutorial.html"
   ]
  },
  {
   "cell_type": "code",
   "execution_count": null,
   "id": "bb808691",
   "metadata": {},
   "outputs": [],
   "source": [
    "# Import packages\n",
    "import networkx as nx\n",
    "import matplotlib.pyplot as plt"
   ]
  },
  {
   "cell_type": "code",
   "execution_count": null,
   "id": "a1b8f155",
   "metadata": {},
   "outputs": [],
   "source": [
    "# ### Creating a graph\n",
    "#\n",
    "# Create an empty graph with no nodes and no edges.\n",
    "\n",
    "# By definition, a `Graph` is a collection of nodes (vertices) along with\n",
    "# identified pairs of nodes (called edges, links, etc).\n",
    "\n",
    "G = nx.Graph()"
   ]
  },
  {
   "cell_type": "code",
   "execution_count": null,
   "id": "ef49d364",
   "metadata": {},
   "outputs": [],
   "source": [
    "# Adding new nodes\n",
    "\n",
    "G.add_node(\"Alice\")\n",
    "G.add_node(\"Bob\")\n",
    "\n",
    "# Or, if you have a list of node names in a List, you can specify the list:\n",
    "G.add_nodes_from([\"Cindy\", \"David\", \"Eleanor\", \"Frank\"])"
   ]
  },
  {
   "cell_type": "code",
   "execution_count": null,
   "id": "d1f59951",
   "metadata": {},
   "outputs": [],
   "source": [
    "# # Edges\n",
    "#\n",
    "# `G` can also be grown by adding one edge at a time,\n",
    "\n",
    "G.add_edge(\"Alice\", \"Bob\", color='r', weight=2)\n",
    "\n",
    "e = (\"Bob\", \"Cindy\")\n",
    "G.add_edge(*e, color='r', weight=2)  # unpack edge tuple*\n",
    "\n",
    "# by adding a list of edges,\n",
    "G.add_edges_from([ \n",
    "    (\"Alice\", \"Cindy\"), (\"Cindy\", \"David\"), (\"David\", \"Eleanor\"), (\"Eleanor\", \"Frank\"), (\"David\", \"Frank\")]\n",
    "    , color='r', weight=2\n",
    ")"
   ]
  },
  {
   "cell_type": "code",
   "execution_count": null,
   "id": "5d3d5484",
   "metadata": {},
   "outputs": [],
   "source": [
    "# Draw a network and see what it looks like\n",
    "nx.draw(G, with_labels=True, node_size=2000, node_color='r', font_size=10)"
   ]
  },
  {
   "cell_type": "code",
   "execution_count": null,
   "id": "8eaefc88",
   "metadata": {},
   "outputs": [],
   "source": [
    "# Draw again\n",
    "plt.figure(figsize = (10,9))\n",
    "nx.draw(G, with_labels=True, node_size=2000, node_color='r', font_size=10)\n",
    "plt.show()\n",
    "\n",
    "# If you want to save the graph as an image file\n",
    "#plt.savefig(\"mygraph1.png\", format = \"png\", dpi = 300)"
   ]
  },
  {
   "cell_type": "code",
   "execution_count": null,
   "id": "4937355b",
   "metadata": {},
   "outputs": [],
   "source": [
    "# Network statistics\n",
    "\n",
    "print(\"Number of nodes in G: \", G.number_of_nodes())\n",
    "print(\"Number of edges in G: \", G.number_of_edges())"
   ]
  },
  {
   "cell_type": "code",
   "execution_count": null,
   "id": "e4e3cd58",
   "metadata": {},
   "outputs": [],
   "source": [
    "# You can get/set the attributes of an edge using subscript notation if the edge already exists.\n",
    "\n",
    "G['Alice']['Bob']['color'] = \"blue\"\n",
    "G['Alice']['Bob']['weight'] = 4\n",
    "\n",
    "G.edges['Bob', 'Cindy']['color'] = \"green\"\n",
    "G.edges['Bob', 'Cindy']['weight'] = 6\n",
    "\n",
    "edges = G.edges()\n",
    "colors = [G[u][v]['color'] for u,v in edges]\n",
    "weights = [G[u][v]['weight'] for u,v in edges]"
   ]
  },
  {
   "cell_type": "code",
   "execution_count": null,
   "id": "2c1ce31e",
   "metadata": {},
   "outputs": [],
   "source": [
    "colors"
   ]
  },
  {
   "cell_type": "code",
   "execution_count": null,
   "id": "f1d9164c",
   "metadata": {},
   "outputs": [],
   "source": [
    "# Draw again\n",
    "plt.figure(figsize = (10,9))\n",
    "nx.draw(G, edge_color=colors, width=weights, with_labels=True, node_size=2000, node_color='r', font_size=10)\n",
    "plt.show()"
   ]
  },
  {
   "cell_type": "code",
   "execution_count": null,
   "id": "e3bc695a",
   "metadata": {},
   "outputs": [],
   "source": []
  }
 ],
 "metadata": {
  "kernelspec": {
   "display_name": "Python 3 (ipykernel)",
   "language": "python",
   "name": "python3"
  },
  "language_info": {
   "codemirror_mode": {
    "name": "ipython",
    "version": 3
   },
   "file_extension": ".py",
   "mimetype": "text/x-python",
   "name": "python",
   "nbconvert_exporter": "python",
   "pygments_lexer": "ipython3",
   "version": "3.9.7"
  }
 },
 "nbformat": 4,
 "nbformat_minor": 5
}
