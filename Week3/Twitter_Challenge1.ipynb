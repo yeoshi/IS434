{
 "cells": [
  {
   "cell_type": "markdown",
   "id": "8cbc4740",
   "metadata": {},
   "source": [
    "# Twitter Challenge 1\n",
    "\n",
    "\n",
    "## Recall that you were asked to retrieve ~ 10K tweets last week.\n",
    "\n",
    "## Do the following:\n",
    "\n",
    "1. Use any Python package(s) of your choice\n",
    "2. Perform text pre-processing\n",
    "3. Generate a word cloud\n",
    "4. Post the word cloud (image) as a Tweet (using your own Twitter account).\n",
    "\n",
    "### Briefly describe: what is the topic? what is the data period?\n",
    "### Include #is434 #smu #scis hashtags in your tweet."
   ]
  },
  {
   "cell_type": "code",
   "execution_count": null,
   "id": "3fe493e7",
   "metadata": {},
   "outputs": [],
   "source": []
  },
  {
   "cell_type": "code",
   "execution_count": null,
   "id": "f08d0505",
   "metadata": {},
   "outputs": [],
   "source": []
  },
  {
   "cell_type": "code",
   "execution_count": null,
   "id": "722bcc86",
   "metadata": {},
   "outputs": [],
   "source": []
  }
 ],
 "metadata": {
  "kernelspec": {
   "display_name": "Python 3 (ipykernel)",
   "language": "python",
   "name": "python3"
  },
  "language_info": {
   "codemirror_mode": {
    "name": "ipython",
    "version": 3
   },
   "file_extension": ".py",
   "mimetype": "text/x-python",
   "name": "python",
   "nbconvert_exporter": "python",
   "pygments_lexer": "ipython3",
   "version": "3.9.7"
  }
 },
 "nbformat": 4,
 "nbformat_minor": 5
}
