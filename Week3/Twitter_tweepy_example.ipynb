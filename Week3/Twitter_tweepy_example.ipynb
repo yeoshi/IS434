{
 "cells": [
  {
   "cell_type": "markdown",
   "id": "18ddbdfe",
   "metadata": {},
   "source": [
    "tweepy\n",
    "\n",
    "Official documentation: https://docs.tweepy.org/en/stable/\n",
    "\n",
    "Ref: https://dev.to/twitterdev/a-comprehensive-guide-for-using-the-twitter-api-v2-using-tweepy-in-python-15d9"
   ]
  },
  {
   "cell_type": "code",
   "execution_count": null,
   "id": "1861c207",
   "metadata": {},
   "outputs": [],
   "source": [
    "import tweepy\n",
    "import datetime\n",
    "import pandas as pd\n",
    "import json\n",
    "import requests"
   ]
  },
  {
   "cell_type": "code",
   "execution_count": null,
   "id": "5ae6445d",
   "metadata": {},
   "outputs": [],
   "source": [
    "# Paste in your own bearer token\n",
    "BEARER_TOKEN = ''\n",
    "\n",
    "client = tweepy.Client(bearer_token=BEARER_TOKEN, return_type=requests.Response)"
   ]
  },
  {
   "cell_type": "code",
   "execution_count": null,
   "id": "4863b02b",
   "metadata": {},
   "outputs": [],
   "source": [
    "'''\n",
    "Searching for Tweets from the last 7 days\n",
    "\n",
    "We can use the search_recent_tweets function available in Tweepy.\n",
    "You will have to pass it a search query to specify the data that you are looking for.\n",
    "\n",
    "Below, we will search for for Tweets from the last days from the \n",
    "Twitter handle realDonaldTrump and we are excluding retweets using -is:retweet.\n",
    "\n",
    "By default, a request returns 10 Tweets.\n",
    "If you want more than 10 Tweets per request, you can specify that using the max_results parameter.\n",
    "The maximum Tweets per request is 100.\n",
    "'''\n",
    "# Replace with your own search query\n",
    "handle = 'KimKardashian'\n",
    "query = 'from:' + handle + ' -is:retweet'\n",
    "\n",
    "tweets1 = client.search_recent_tweets(\n",
    "            query=query,\n",
    "            tweet_fields=['context_annotations', 'created_at'],\n",
    "            max_results=100)"
   ]
  },
  {
   "cell_type": "code",
   "execution_count": null,
   "id": "5b74f888",
   "metadata": {},
   "outputs": [],
   "source": [
    "'''\n",
    "Convert to pandas Dataframe\n",
    "'''\n",
    "\n",
    "# Save data as dictionary\n",
    "tweets_dict1 = tweets1.json()\n",
    "\n",
    "# Extract \"data\" value from dictionary\n",
    "tweets_data1 = tweets_dict1['data'] \n",
    "\n",
    "# Transform to pandas Dataframe\n",
    "df1 = pd.json_normalize(tweets_data1)\n",
    "\n",
    "df1"
   ]
  },
  {
   "cell_type": "code",
   "execution_count": null,
   "id": "783614a1",
   "metadata": {},
   "outputs": [],
   "source": [
    "'''\n",
    "If you want to get Tweets for a specific time-period, you can specify the time-period\n",
    "using the start_time and end_time parameters, as shown in the example below:\n",
    "'''\n",
    "\n",
    "# Replace with time period of your choice\n",
    "start_time = '2022-01-20T00:00:00Z'\n",
    "\n",
    "# Replace with time period of your choice\n",
    "end_time = '2022-01-25T00:00:00Z'\n",
    "\n",
    "\n",
    "# Replace with your own search query\n",
    "handle = 'elonmusk'\n",
    "query = 'from:' + handle + ' -is:retweet'\n",
    "\n",
    "tweets2 = client.search_recent_tweets(\n",
    "            query=query,\n",
    "            tweet_fields=['context_annotations', 'created_at'],\n",
    "            start_time=start_time,\n",
    "            end_time=end_time,\n",
    "            max_results=100)\n",
    "\n",
    "'''\n",
    "Convert to pandas Dataframe\n",
    "'''\n",
    "df2 = pd.json_normalize(tweets2)\n",
    "\n",
    "tweets2.json()"
   ]
  },
  {
   "cell_type": "code",
   "execution_count": null,
   "id": "c154e35a",
   "metadata": {},
   "outputs": [],
   "source": [
    "'''\n",
    "Writing Tweets to a text file\n",
    "\n",
    "This example shows how you can write the Tweet IDs for each Tweet obtained \n",
    "for a search result, to a text file.\n",
    "\n",
    "Make sure to replace the file_name with the a name of your chosing.\n",
    "\n",
    "If you wish to write other fields to the text file, make sure to adjust the script below accordingly.\n",
    "'''\n",
    "\n",
    "file_name = 'tweets.txt'\n",
    "\n",
    "df2.to_csv(file_name, index=False, encoding='utf-8')\n",
    "\n",
    "# If you want a different delimiter, say, tab or '\\t'\n",
    "# You can do:\n",
    "#    df2.to_csv(file_name, index=False, encoding='utf-8', sep='\\t')"
   ]
  }
 ],
 "metadata": {
  "kernelspec": {
   "display_name": "Python 3 (ipykernel)",
   "language": "python",
   "name": "python3"
  },
  "language_info": {
   "codemirror_mode": {
    "name": "ipython",
    "version": 3
   },
   "file_extension": ".py",
   "mimetype": "text/x-python",
   "name": "python",
   "nbconvert_exporter": "python",
   "pygments_lexer": "ipython3",
   "version": "3.9.7"
  }
 },
 "nbformat": 4,
 "nbformat_minor": 5
}
