{
 "cells": [
  {
   "cell_type": "markdown",
   "metadata": {},
   "source": [
    "Social Network Analysis - Part 3 - Example 9\n",
    "(How to Read from Graph Files - Edge List, GML)\n",
    "\n",
    "An \"directed\" network"
   ]
  },
  {
   "cell_type": "code",
   "execution_count": null,
   "metadata": {},
   "outputs": [],
   "source": [
    "import networkx as nx\n",
    "import matplotlib.pyplot as plt"
   ]
  },
  {
   "cell_type": "markdown",
   "metadata": {},
   "source": [
    "You can read 'edge' list from a TEXT file.\n",
    "Please have a look at karate/edges.txt file."
   ]
  },
  {
   "cell_type": "code",
   "execution_count": null,
   "metadata": {},
   "outputs": [],
   "source": [
    "# Read from a TEXT file\n",
    "\n",
    "# In this example, we assume that karate club is a directed network.\n",
    "\n",
    "# First, you want to create an EMPTY directed network.\n",
    "G = nx.DiGraph()\n",
    "\n",
    "# Next, you read 'edge' list from 'edges.txt' input file.\n",
    "edges = nx.read_edgelist('karate/edges.txt')\n",
    "\n",
    "# If you have 'node' list file, you may also load it.\n",
    "# In our case, we do NOT have node list so we skip it.\n",
    "#nodes = nx.read_adjlist('karate/nodes.txt')\n",
    "\n",
    "# Next, you will add edges from the input file into the empty network G.\n",
    "G.add_edges_from(edges.edges())\n",
    "\n",
    "# If you have loaded node list, you can add nodes to the empty network G as below.\n",
    "# In our case, we do NOT have node list so we skip it.\n",
    "#G.add_nodes_from(nodes)"
   ]
  },
  {
   "cell_type": "code",
   "execution_count": null,
   "metadata": {},
   "outputs": [],
   "source": [
    "# Network size (# of nodes)\n",
    "n = G.number_of_nodes()\n",
    "print(\"Size of graph: \", n)"
   ]
  },
  {
   "cell_type": "code",
   "execution_count": null,
   "metadata": {},
   "outputs": [],
   "source": [
    "# Let's draw the graph\n",
    "pos = nx.spring_layout(G)\n",
    "nx.draw(G, cmap = plt.get_cmap('rainbow'), with_labels=True, pos=pos)"
   ]
  },
  {
   "cell_type": "markdown",
   "metadata": {},
   "source": [
    "You can also read from GML file.\n",
    "\n",
    "A GML file is a graph markup file - which typically contains:\n",
    "1) a set of nodes\n",
    "2) a set of edges\n",
    "\n",
    "Please have a look at 'karate/karate.gml' file as an example.\n",
    "Again, here, we assume that this is a directed network."
   ]
  },
  {
   "cell_type": "code",
   "execution_count": null,
   "metadata": {},
   "outputs": [],
   "source": [
    "# First, you want to create an EMPTY directed network.\n",
    "H = nx.DiGraph()\n",
    "\n",
    "# Next, you read from the GML file.\n",
    "# Open the file and see. The label is the Node's id - so we specify so as the 2nd argument.\n",
    "infile = nx.read_gml('karate/karate.gml', label='id')\n",
    "\n",
    "# We then add extracted edge list (from GML file) into the empty network H.\n",
    "H.add_edges_from(infile.edges())"
   ]
  },
  {
   "cell_type": "code",
   "execution_count": null,
   "metadata": {},
   "outputs": [],
   "source": [
    "# Network size (# of nodes)\n",
    "n = H.number_of_nodes()\n",
    "print(\"Size of graph: \", n)"
   ]
  },
  {
   "cell_type": "code",
   "execution_count": null,
   "metadata": {},
   "outputs": [],
   "source": [
    "# Let's draw the graph\n",
    "pos = nx.spring_layout(H)\n",
    "nx.draw(H, cmap = plt.get_cmap('rainbow'), with_labels=True, pos=pos)"
   ]
  },
  {
   "cell_type": "code",
   "execution_count": null,
   "metadata": {},
   "outputs": [],
   "source": []
  }
 ],
 "metadata": {
  "kernelspec": {
   "display_name": "Python 3 (ipykernel)",
   "language": "python",
   "name": "python3"
  },
  "language_info": {
   "codemirror_mode": {
    "name": "ipython",
    "version": 3
   },
   "file_extension": ".py",
   "mimetype": "text/x-python",
   "name": "python",
   "nbconvert_exporter": "python",
   "pygments_lexer": "ipython3",
   "version": "3.9.7"
  }
 },
 "nbformat": 4,
 "nbformat_minor": 2
}
