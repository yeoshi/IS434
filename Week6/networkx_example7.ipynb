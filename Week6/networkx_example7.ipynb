{
 "cells": [
  {
   "cell_type": "markdown",
   "metadata": {},
   "source": [
    "Social Network Analysis - Part 3 - Example 7\n",
    "(Community Detection)\n",
    "\n",
    "In this exercise, we will analyze the \"Karate Club\" network (https://en.wikipedia.org/wiki/Zachary%27s_karate_club).\n",
    "\n",
    "We will use different libraries for 3 different community detection methods, namely:\n",
    "1. Louvain (https://en.wikipedia.org/wiki/Louvain_method)\n",
    "2. Girvan-Newman (https://en.wikipedia.org/wiki/Girvan%E2%80%93Newman_algorithm)\n",
    "3. Hierarchical Clustering (https://en.wikipedia.org/wiki/Hierarchical_clustering)\n",
    "\n",
    "\n",
    "- Ref (nice article): https://towardsdatascience.com/graph-algorithms-part-2-dce0b2734a1d\n",
    "- Ref (Python workbook) https://github.com/maelfabien/Machine_Learning_Tutorials/blob/master/3-MachineLearning/GraphMining/Graph_Analysis.ipynb"
   ]
  },
  {
   "cell_type": "code",
   "execution_count": null,
   "metadata": {},
   "outputs": [],
   "source": [
    "import numpy as np\n",
    "import random\n",
    "\n",
    "from IPython.display import Image\n",
    "import matplotlib.pyplot as plt\n",
    "import itertools\n",
    "\n",
    "from sklearn.metrics import accuracy_score\n",
    "from sklearn.metrics import roc_curve\n",
    "from sklearn.metrics import roc_auc_score\n",
    "\n",
    "import networkx as nx\n",
    "from networkx.algorithms import community"
   ]
  },
  {
   "cell_type": "code",
   "execution_count": null,
   "metadata": {},
   "outputs": [],
   "source": [
    "# Node2Vec\n",
    "from node2vec import Node2Vec\n",
    "\n",
    "%matplotlib inline\n",
    "from sklearn import metrics\n",
    "import os.path\n",
    "import urllib\n",
    "import tarfile"
   ]
  },
  {
   "cell_type": "code",
   "execution_count": null,
   "metadata": {},
   "outputs": [],
   "source": [
    "'''\n",
    "We'll use the \"Karate Club\" graph integrated in networkx.\n",
    "It represents the relations of members of a Karate Club.\n",
    "\n",
    "However, due to a lack a agreement of the founders of the club, \n",
    "the club has recently been splitted in two.\n",
    "\n",
    "We'll try to illustrate this event with graphs.\n",
    "'''\n",
    "\n",
    "# Load a sample network \"Karate\"\n",
    "G_karate = nx.karate_club_graph()"
   ]
  },
  {
   "cell_type": "code",
   "execution_count": null,
   "metadata": {},
   "outputs": [],
   "source": [
    "# Let's draw the graph\n",
    "pos = nx.spring_layout(G_karate)\n",
    "nx.draw(G_karate, cmap = plt.get_cmap('rainbow'), with_labels=True, pos=pos)"
   ]
  },
  {
   "cell_type": "code",
   "execution_count": null,
   "metadata": {},
   "outputs": [],
   "source": [
    "# Let's describe the graph\n",
    "\n",
    "# Network size (# of nodes)\n",
    "n = G_karate.number_of_nodes()\n",
    "print(\"Size of graph: \", n)"
   ]
  },
  {
   "cell_type": "code",
   "execution_count": null,
   "metadata": {},
   "outputs": [],
   "source": [
    "# Degree Centrality of each node\n",
    "G_karate.degree()"
   ]
  },
  {
   "cell_type": "code",
   "execution_count": null,
   "metadata": {},
   "outputs": [],
   "source": [
    "degree_sequence = list(G_karate.degree())\n",
    "degree_sequence"
   ]
  },
  {
   "cell_type": "code",
   "execution_count": null,
   "metadata": {},
   "outputs": [],
   "source": [
    "nb_nodes = n\n",
    "nb_arr = len(G_karate.edges())\n",
    "\n",
    "avg_degree = np.mean(np.array(degree_sequence)[:,1])\n",
    "med_degree = np.median(np.array(degree_sequence)[:,1])\n",
    "\n",
    "max_degree = max(np.array(degree_sequence)[:,1])\n",
    "min_degree = np.min(np.array(degree_sequence)[:,1])\n",
    "\n",
    "\n",
    "\n",
    "print(\"Number of nodes : \" + str(nb_nodes))\n",
    "print(\"Number of edges : \" + str(nb_arr))\n",
    "\n",
    "print(\"Maximum degree : \" + str(max_degree))\n",
    "print(\"Minimum degree : \" + str(min_degree))\n",
    "\n",
    "print(\"Average degree : \" + str(avg_degree))\n",
    "print(\"Median degree : \" + str(med_degree))"
   ]
  },
  {
   "cell_type": "code",
   "execution_count": null,
   "metadata": {},
   "outputs": [],
   "source": [
    "# More visually, we can plot the histogram of the sequence of degrees\n",
    "degree_freq = np.array(nx.degree_histogram(G_karate)).astype('float')\n",
    "\n",
    "plt.figure(figsize=(12, 8))\n",
    "plt.stem(degree_freq)\n",
    "plt.ylabel(\"Frequence\")\n",
    "plt.xlabel(\"Degre\")\n",
    "plt.show()"
   ]
  },
  {
   "cell_type": "code",
   "execution_count": null,
   "metadata": {},
   "outputs": [],
   "source": [
    "# Node-level clustering coefficient\n",
    "# Local Clustering Coefficients\n",
    "list(nx.clustering(G_karate).values())"
   ]
  },
  {
   "cell_type": "markdown",
   "metadata": {},
   "source": [
    "# Clustering Coefficient\n",
    "In graph theory, a clustering coefficient is a measure of the degree to which nodes in a graph tend to cluster together. Evidence suggests that in most real-world networks, and in particular social networks, nodes tend to create tightly knit groups characterised by a relatively high density of ties; this likelihood tends to be greater than the average probability of a tie randomly established between two nodes\n",
    "\n",
    "Ref: https://en.wikipedia.org/wiki/Clustering_coefficient"
   ]
  },
  {
   "cell_type": "code",
   "execution_count": null,
   "metadata": {},
   "outputs": [],
   "source": [
    "# Global Clustering Coefficient\n",
    "print(\"Global Clustering Coefficient : \" + str(np.mean(list(nx.clustering(G_karate).values()))))\n",
    "\n",
    "# You can also calculate Clustering Coefficient for each community.\n",
    "# For instance, identify the largest community ('giant' cluster) in a network.\n",
    "# And then calculate the clustering coefficient for that giant cluster."
   ]
  },
  {
   "cell_type": "code",
   "execution_count": null,
   "metadata": {},
   "outputs": [],
   "source": [
    "# Returns shortest path between each node\n",
    "nx.shortest_path(G_karate)"
   ]
  },
  {
   "cell_type": "code",
   "execution_count": null,
   "metadata": {},
   "outputs": [],
   "source": [
    "# Returns shortest path length between each node\n",
    "list(nx.all_pairs_shortest_path_length(G_karate))"
   ]
  },
  {
   "cell_type": "markdown",
   "metadata": {},
   "source": [
    "# Find communities (Algorithm: Louvain)"
   ]
  },
  {
   "cell_type": "code",
   "execution_count": null,
   "metadata": {},
   "outputs": [],
   "source": [
    "'''\n",
    "You may need to install a new package \"python-louvain\"\n",
    "\n",
    "pip install python-louvain\n",
    "'''\n",
    "\n",
    "############## Community Detection ##############\n",
    "import community"
   ]
  },
  {
   "cell_type": "code",
   "execution_count": null,
   "metadata": {},
   "outputs": [],
   "source": [
    "# Find communities (Algorithm: Louvain)\n",
    "partition = community.best_partition(G_karate)  "
   ]
  },
  {
   "cell_type": "code",
   "execution_count": null,
   "metadata": {},
   "outputs": [],
   "source": [
    "# Let's check out the communities\n",
    "partition"
   ]
  },
  {
   "cell_type": "code",
   "execution_count": null,
   "metadata": {},
   "outputs": [],
   "source": [
    "node_list = list(G_karate.nodes())\n",
    "\n",
    "for node in node_list:\n",
    "    print(\"Node \", node, \" is in Cluster \", partition[node])"
   ]
  },
  {
   "cell_type": "code",
   "execution_count": null,
   "metadata": {},
   "outputs": [],
   "source": [
    "# Let's graph the communities\n",
    "\n",
    "pos = nx.spring_layout(G_karate)  # compute graph layout\n",
    "plt.figure(figsize=(8, 8))  # image is 8 x 8 inches\n",
    "plt.axis('off')\n",
    "\n",
    "nx.draw_networkx_nodes(G_karate, pos, node_size=600, cmap=plt.cm.RdYlBu, node_color=list(partition.values()))\n",
    "nx.draw_networkx_edges(G_karate, pos, alpha=0.3)\n",
    "\n",
    "# plt.show(G_karate)\n",
    "\n",
    "plt.show()"
   ]
  },
  {
   "cell_type": "markdown",
   "metadata": {},
   "source": [
    "# Find communities (Algorithm: Girvan Newman)\n"
   ]
  },
  {
   "cell_type": "code",
   "execution_count": null,
   "metadata": {},
   "outputs": [],
   "source": [
    "# Find communities(Algorithm: Girvan Newman)\n",
    "from networkx.algorithms import community\n",
    "\n",
    "k = 1\n",
    "comp = community.girvan_newman(G_karate)\n",
    "\n",
    "for communities in itertools.islice(comp, k):\n",
    "    print(tuple(sorted(c) for c in communities))"
   ]
  },
  {
   "cell_type": "code",
   "execution_count": null,
   "metadata": {},
   "outputs": [],
   "source": [
    "# See if all communities are connected\n",
    "nx.is_connected(G_karate)\n",
    "\n",
    "# If the communities are NOT connected... how will you reach out to ALL nodes?\n",
    "# Won't you have to find a starting node in each community & start spreading infection?"
   ]
  },
  {
   "cell_type": "code",
   "execution_count": null,
   "metadata": {},
   "outputs": [],
   "source": [
    "# Suppose we have one community consisting of the following nodes:\n",
    "community1 = [0, 1, 3, 4, 5, 6, 7, 10, 11, 12, 13, 16, 17, 19, 21]\n",
    "# Note that, instead of hard-coding the nodes for community1\n",
    "# You could programmatically retrieve the nodes from the Community Detection output\n",
    "\n",
    "\n",
    "# Suppose we have a 2nd community consisting of:\n",
    "community2 = [2, 8, 9, 14, 15, 18, 20, 22, 23, 24, 25, 26, 27, 28, 29, 30, 31, 32, 33]\n",
    "# Note that, instead of hard-coding the nodes for community2\n",
    "# You could programmatically retrieve the nodes from the Community Detection output"
   ]
  },
  {
   "cell_type": "code",
   "execution_count": null,
   "metadata": {},
   "outputs": [],
   "source": [
    "# We can extract out a sub-graph given a list of nodes\n",
    "\n",
    "# Community 1\n",
    "community1_subgraph = G_karate.subgraph(community1)\n",
    "\n",
    "# Community 2\n",
    "community2_subgraph = G_karate.subgraph(community2)\n",
    "\n",
    "# Let's check out all the edges\n",
    "print(\"============ Community 1 - Edges ===========\")\n",
    "print( community1_subgraph.edges() )\n",
    "\n",
    "print(\"============ Community 2 - Edges ===========\")\n",
    "print( community2_subgraph.edges() )"
   ]
  },
  {
   "cell_type": "markdown",
   "metadata": {},
   "source": [
    "# Find communities (Algorithm: Hierarchical Clustering)"
   ]
  },
  {
   "cell_type": "code",
   "execution_count": null,
   "metadata": {},
   "outputs": [],
   "source": [
    "# AND here's yet another community detection algorithm --> Hierarchical Clustering\n",
    "\n",
    "# Find communities(Algorithm: Hierarchical Clustering)\n",
    "# Before applying hierachical clustering, we need to define the matrix of distances between each node.\n",
    "\n",
    "# distances[i, j] is the length of the shortest path between i and j\n",
    "pcc_longueurs=list(nx.all_pairs_shortest_path_length(G_karate))\n",
    "distances=np.zeros((n,n))\n",
    "\n",
    "for i in range(n):\n",
    "    for j in range(n):\n",
    "        distances[i, j] = pcc_longueurs[i][1][j]\n",
    "\n",
    "# Perform clustering\n",
    "from sklearn.cluster import AgglomerativeClustering\n",
    "clustering = AgglomerativeClustering(n_clusters=2, linkage='average', affinity='precomputed').fit_predict(distances)\n",
    "\n",
    "# Draw the graph\n",
    "nx.draw(G_karate, node_color = clustering)"
   ]
  },
  {
   "cell_type": "markdown",
   "metadata": {},
   "source": [
    "Below, we show you useful node-level centrality measures.\n",
    "\n",
    "It is similar to closeness centrality, which is a measure of proximity.\n",
    "High closeness centrality nodes can reach out to the rest of the network with the least number of links.\n",
    "Hence, they can spread epidemics/rumors/information very fast throughout the network.\n",
    "\n",
    "Eigenvector Centrality is a node-level influence measure.\n",
    "A high eigenvector score means that a node is connected to many nodes who themselves have high scores.\n",
    "\n",
    "Given two individuals Alice and Bob, each with 10 degree centrality value:\n",
    "Alice could have a much higher eigenvector centrality than Bob because -\n",
    "1) Each of Alice's 10 friends... has 10 friends\n",
    "2) Each of Bob's 10 friends only has 1 friends each"
   ]
  },
  {
   "cell_type": "code",
   "execution_count": null,
   "metadata": {},
   "outputs": [],
   "source": [
    "# Let's use the Karate Club network to calculate\n",
    "# 1) Degree centrality\n",
    "# 2) Closeness centrality\n",
    "# 3) Betweenness centrality\n",
    "# 4) Eigenvector centrality\n",
    "\n",
    "c_degree = nx.degree_centrality(G_karate)\n",
    "c_closeness = nx.closeness_centrality(G_karate)\n",
    "c_betweenness = nx.betweenness_centrality(G_karate)\n",
    "c_eigenvector = nx.eigenvector_centrality(G_karate)\n",
    "\n",
    "c_degree = list(c_degree.values())\n",
    "c_closeness = list(c_closeness.values())\n",
    "c_betweenness = list(c_betweenness.values())\n",
    "c_eigenvector = list(c_eigenvector.values())"
   ]
  },
  {
   "cell_type": "code",
   "execution_count": null,
   "metadata": {},
   "outputs": [],
   "source": [
    "plt.figure(figsize=(18, 12))\n",
    "f, axarr = plt.subplots(2, 2, num=1)\n",
    "plt.sca(axarr[0,0])\n",
    "nx.draw(G_karate, cmap = plt.get_cmap('inferno'), node_color = c_degree, node_size=300, pos=pos, with_labels=True)\n",
    "axarr[0,0].set_title('Degree Centrality', size=16)\n",
    "\n",
    "plt.sca(axarr[0,1])\n",
    "nx.draw(G_karate, cmap = plt.get_cmap('inferno'), node_color = c_eigenvector, node_size=300, pos=pos, with_labels=True)\n",
    "axarr[0,1].set_title('Eigenvalue Centrality', size=16)\n",
    "\n",
    "plt.sca(axarr[1,0])\n",
    "nx.draw(G_karate, cmap = plt.get_cmap('inferno'), node_color = c_closeness, node_size=300, pos=pos, with_labels=True)\n",
    "axarr[1,0].set_title('Closeness Centrality', size=16)\n",
    "\n",
    "plt.sca(axarr[1,1])\n",
    "nx.draw(G_karate, cmap = plt.get_cmap('inferno'), node_color = c_betweenness, node_size=300, pos=pos, with_labels=True)\n",
    "axarr[1,1].set_title('Betweenness Centrality', size=16)"
   ]
  },
  {
   "cell_type": "code",
   "execution_count": null,
   "metadata": {},
   "outputs": [],
   "source": []
  }
 ],
 "metadata": {
  "kernelspec": {
   "display_name": "Python 3 (ipykernel)",
   "language": "python",
   "name": "python3"
  },
  "language_info": {
   "codemirror_mode": {
    "name": "ipython",
    "version": 3
   },
   "file_extension": ".py",
   "mimetype": "text/x-python",
   "name": "python",
   "nbconvert_exporter": "python",
   "pygments_lexer": "ipython3",
   "version": "3.9.7"
  }
 },
 "nbformat": 4,
 "nbformat_minor": 2
}
