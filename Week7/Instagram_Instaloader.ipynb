{
 "cells": [
  {
   "cell_type": "markdown",
   "id": "53339af1",
   "metadata": {},
   "source": [
    "Web Crawling & Scraping (Instagram - Instaloader)\n",
    "\n",
    "Ref: https://www.geeksforgeeks.org/introduction-to-instaloader-module-in-python/\n",
    "\n",
    "Ref: https://instaloader.github.io/codesnippets.html"
   ]
  },
  {
   "cell_type": "code",
   "execution_count": null,
   "id": "c991266a",
   "metadata": {},
   "outputs": [],
   "source": [
    "import instaloader"
   ]
  },
  {
   "cell_type": "code",
   "execution_count": null,
   "id": "11327170",
   "metadata": {},
   "outputs": [],
   "source": [
    "# Get instance\n",
    "loader = instaloader.Instaloader()"
   ]
  },
  {
   "cell_type": "code",
   "execution_count": null,
   "id": "55904687",
   "metadata": {},
   "outputs": [],
   "source": [
    "# Login using the credentials\n",
    "# Your Own Instagram Credentials\n",
    "USER = ''\n",
    "PASSWORD = ''"
   ]
  },
  {
   "cell_type": "code",
   "execution_count": null,
   "id": "27964c22",
   "metadata": {},
   "outputs": [],
   "source": [
    "# Login using the credentials\n",
    "loader.login(USER, PASSWORD)"
   ]
  },
  {
   "cell_type": "code",
   "execution_count": null,
   "id": "10992375",
   "metadata": {},
   "outputs": [],
   "source": [
    "# Use Profile class to access metadata of account\n",
    "profile = instaloader.Profile.from_username(loader.context, 'justinbieber')"
   ]
  },
  {
   "cell_type": "code",
   "execution_count": null,
   "id": "5c9026ce",
   "metadata": {},
   "outputs": [],
   "source": [
    "# See followers\n",
    "followers = profile.get_followers()\n",
    "\n",
    "for follower in followers:\n",
    "    print(follower)"
   ]
  },
  {
   "cell_type": "code",
   "execution_count": null,
   "id": "21e295dc",
   "metadata": {},
   "outputs": [],
   "source": [
    "# See followees\n",
    "followees = profile.get_followees()\n",
    "\n",
    "for followee in followees:\n",
    "    print(followee)"
   ]
  },
  {
   "cell_type": "code",
   "execution_count": null,
   "id": "79199056",
   "metadata": {},
   "outputs": [],
   "source": [
    "# Get the total number of posts\n",
    "media = profile.mediacount\n",
    "\n",
    "print(media)"
   ]
  },
  {
   "cell_type": "code",
   "execution_count": null,
   "id": "3753ee95",
   "metadata": {},
   "outputs": [],
   "source": [
    "# Get the total number of IGTV posts\n",
    "igtv = profile.igtvcount\n",
    "\n",
    "print(igtv)"
   ]
  },
  {
   "cell_type": "code",
   "execution_count": null,
   "id": "af91e8c0",
   "metadata": {},
   "outputs": [],
   "source": [
    "# Is this account private or public?\n",
    "private = profile.is_private\n",
    "\n",
    "print(private)"
   ]
  },
  {
   "cell_type": "code",
   "execution_count": null,
   "id": "31190060",
   "metadata": {},
   "outputs": [],
   "source": [
    "# Get biography\n",
    "bio = profile.biography\n",
    "\n",
    "print(bio)"
   ]
  },
  {
   "cell_type": "code",
   "execution_count": null,
   "id": "0719a652",
   "metadata": {},
   "outputs": [],
   "source": [
    "# Get profile picture\n",
    "profile_pic = profile.profile_pic_url\n",
    "\n",
    "print(profile_pic)"
   ]
  },
  {
   "cell_type": "code",
   "execution_count": null,
   "id": "c3ac5914",
   "metadata": {},
   "outputs": [],
   "source": [
    "# Get external url (if any)\n",
    "ext_url = profile.external_url\n",
    "\n",
    "print(ext_url)"
   ]
  },
  {
   "cell_type": "code",
   "execution_count": null,
   "id": "e186f8f1",
   "metadata": {},
   "outputs": [],
   "source": [
    "# Is this a business account?\n",
    "business = profile.is_business_account\n",
    "\n",
    "print(business)"
   ]
  },
  {
   "cell_type": "code",
   "execution_count": null,
   "id": "c6763c38",
   "metadata": {},
   "outputs": [],
   "source": [
    "# returns the business category\n",
    "business_type = profile.business_category_name\n",
    " \n",
    "print(business_type)"
   ]
  },
  {
   "cell_type": "markdown",
   "id": "0e49b60d",
   "metadata": {},
   "source": [
    "# Download Posts in a Specific Period\n",
    "To only download Instagram pictures (and metadata) that are within a specific period, you can simply use dropwhile() and takewhile() from itertools on a generator that returns Posts in exact chronological order, such as Profile.get_posts()."
   ]
  },
  {
   "cell_type": "code",
   "execution_count": null,
   "id": "ebccf47a",
   "metadata": {},
   "outputs": [],
   "source": [
    "from datetime import datetime\n",
    "from itertools import dropwhile, takewhile\n",
    "\n",
    "import instaloader\n",
    "\n",
    "L = instaloader.Instaloader()\n",
    "\n",
    "posts = instaloader.Profile.from_username(L.context, \"justinbieber\").get_posts()\n",
    "\n",
    "# Tracing backwards from today\n",
    "SINCE = datetime(2022, 2, 22) # February 22, 2022\n",
    "UNTIL = datetime(2022, 1, 22) # January 22, 2022\n",
    "\n",
    "for post in takewhile(lambda p: p.date > UNTIL, dropwhile(lambda p: p.date > SINCE, posts)):\n",
    "    print(post.date)\n",
    "    L.download_post(post, \"justinbieber\")"
   ]
  },
  {
   "cell_type": "code",
   "execution_count": null,
   "id": "e980d6a9",
   "metadata": {},
   "outputs": [],
   "source": [
    "# Retriev Metadata from posts\n",
    "# Credit to TA Thao, thank you!\n",
    "\n",
    "import os\n",
    "import pandas as pd \n",
    "\n",
    "def parse_instafiles(path):\n",
    "\n",
    "    os.chdir(path)\n",
    "    \n",
    "    dataframe = pd.DataFrame(columns=[])\n",
    "    \n",
    "    #print('Traversing file tree...')\n",
    "    \n",
    "    glob('*UTC.json')\n",
    "    \n",
    "    for file in glob('*UTC.json'):\n",
    "        with open(file, 'r') as filecontent:\n",
    "            filename = filecontent.name[:-5]\n",
    "\n",
    "            try:\n",
    "                metadata = orjson.loads(filecontent.read())\n",
    "            \n",
    "            except IOError as e:\n",
    "                #print(\"I/O Error. Couldn't load file. Trying the next one...\")\n",
    "                continue\n",
    "            else:\n",
    "                pass\n",
    "            #print('Collecting relevant metadata...')\n",
    "            username = metadata['node']['owner']['username']\n",
    "            image = metadata['node']['display_url']\n",
    "            time = datetime.fromtimestamp(int(metadata['node']['taken_at_timestamp']))\n",
    "            likes = int(metadata['node']['edge_media_preview_like']['count'])   \n",
    "            \n",
    "#             If you want to crawl comments\n",
    "#             comments = int(metadata['node']['edge_media_to_comment']['count'])\n",
    "#             if comments > 0:\n",
    "#                 with open(filename+\"_comments.json\" ,'r') as comment_file:\n",
    "#                     data = orjson.loads(comment_file.read())\n",
    "#                     comment1 = data[0]['text']\n",
    "            \n",
    "            try:\n",
    "                text = metadata['node']['edge_media_to_caption']['edges'][0]['node']['text']\n",
    "            except:\n",
    "                text = \"\"\n",
    "            try:\n",
    "                post_id = metadata['node']['id']\n",
    "            except:\n",
    "                post_id = \"\"\n",
    "            minedata = {'filename': filename, \"username\": username, 'time': time, 'text': text,\n",
    "                    'likes': likes, 'post_id' : post_id, 'image_url':image}\n",
    "            #print('Writing to dataframe...')\n",
    "            dataframe = dataframe.append(minedata, ignore_index=True)\n",
    "            #print('Closing file...')\n",
    "            del metadata\n",
    "            filecontent.close()\n",
    "    #print('Storing dataframe to CSV file...')\n",
    "    #print('Done.')\n",
    "    return dataframe"
   ]
  },
  {
   "cell_type": "code",
   "execution_count": null,
   "id": "002ba5b6",
   "metadata": {},
   "outputs": [],
   "source": [
    "# Windows OS path\n",
    "# If you're using Mac, replace \\\\ with /\n",
    "df_instagram = parse_instafiles(os.getcwd() + \"\\\\justinbieber\")"
   ]
  },
  {
   "cell_type": "code",
   "execution_count": null,
   "id": "c36a6650",
   "metadata": {},
   "outputs": [],
   "source": [
    "# Let's see the metadata for the first few entries\n",
    "df_instagram.head()"
   ]
  }
 ],
 "metadata": {
  "kernelspec": {
   "display_name": "Python 3 (ipykernel)",
   "language": "python",
   "name": "python3"
  },
  "language_info": {
   "codemirror_mode": {
    "name": "ipython",
    "version": 3
   },
   "file_extension": ".py",
   "mimetype": "text/x-python",
   "name": "python",
   "nbconvert_exporter": "python",
   "pygments_lexer": "ipython3",
   "version": "3.9.7"
  }
 },
 "nbformat": 4,
 "nbformat_minor": 5
}
