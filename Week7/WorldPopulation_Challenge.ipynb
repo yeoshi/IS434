{
 "cells": [
  {
   "cell_type": "markdown",
   "metadata": {},
   "source": [
    "Web Crawling & Scraping (Web Scraping from a Wikipedia page) - CODING CHALLENGE !!!\n",
    "\n",
    "https://www.worldometers.info/world-population/population-by-country/\n",
    "    \n",
    "    \n",
    "1. Extract all the table data from the above webpage\n",
    "\n",
    "2. Write the table content into worldpopulation.tab\n",
    "- tab delimited file\n",
    "- header (column names)\n",
    "- each subsequent row is a country & its data\n",
    "\n",
    "On a related note, you can extract webpages in Excel\n",
    "Data --> Import from Web --> (Specify a URL)"
   ]
  },
  {
   "cell_type": "code",
   "execution_count": null,
   "metadata": {},
   "outputs": [],
   "source": [
    "######## Step 1 ########\n",
    "'''\n",
    "import libraries\n",
    "'''\n",
    "import requests\n",
    "from bs4 import BeautifulSoup"
   ]
  },
  {
   "cell_type": "code",
   "execution_count": null,
   "metadata": {},
   "outputs": [],
   "source": [
    "######## Step 2 ########\n",
    "'''\n",
    "Webpage\n",
    "'''\n",
    "source_path = \"https://www.worldometers.info/world-population/population-by-country/\"\n",
    "page = requests.get(source_path)\n",
    "page_content = page.content"
   ]
  },
  {
   "cell_type": "code",
   "execution_count": null,
   "metadata": {},
   "outputs": [],
   "source": [
    "######## Step 3 ########\n",
    "'''\n",
    "html.parser\n",
    "'''\n",
    "soup = BeautifulSoup(page_content, 'html.parser')\n",
    "print (soup.prettify())"
   ]
  },
  {
   "cell_type": "code",
   "execution_count": null,
   "metadata": {},
   "outputs": [],
   "source": [
    "######## Step 4 ########\n",
    "\n",
    "#==================================================\n",
    "# YOUR CODE GOES HERE\n",
    "#==================================================\n",
    "\n",
    "\n",
    "# This is how you write to an external tab-delimited file\n",
    "f = open(\"world_population.tab\", \"w\", encoding='utf-8')\n",
    "f.write(\"rank\\tcountry\\tpopulation\\tyearly_change\\tnet_change\\tdensity\\tland_area\\tmigrants\\tfert_rate\\tmed_age\\turban_pop\\tworld_share\\n\")\n",
    "\n",
    "# What will you write?\n",
    "\n",
    "f.close()"
   ]
  },
  {
   "cell_type": "markdown",
   "metadata": {},
   "source": [
    "# Now go and check \"world_population.tab\" file"
   ]
  },
  {
   "cell_type": "code",
   "execution_count": null,
   "metadata": {},
   "outputs": [],
   "source": []
  }
 ],
 "metadata": {
  "kernelspec": {
   "display_name": "Python 3 (ipykernel)",
   "language": "python",
   "name": "python3"
  },
  "language_info": {
   "codemirror_mode": {
    "name": "ipython",
    "version": 3
   },
   "file_extension": ".py",
   "mimetype": "text/x-python",
   "name": "python",
   "nbconvert_exporter": "python",
   "pygments_lexer": "ipython3",
   "version": "3.9.7"
  }
 },
 "nbformat": 4,
 "nbformat_minor": 4
}
