{
 "cells": [
  {
   "cell_type": "markdown",
   "metadata": {},
   "source": [
    "Web Crawling & Scraping (Yelp API)\n",
    "\n",
    "This script crawls Yelp reviews via Yelp API.\n",
    "\n",
    "First, we show you how to search businesses by geo-location (e.g. 2 kilometers radius from a particular city).\n",
    "Next, we show you how to retrieve user reviews for a given business (business ID).\n",
    "\n",
    "Ref (Yelp API Documentation): https://www.yelp.com/developers/documentation/v3"
   ]
  },
  {
   "cell_type": "markdown",
   "metadata": {},
   "source": [
    "Client ID\n",
    "YOUR_CLIENT_ID\n",
    "\n",
    "API Key\n",
    "YOUR_API_KEY"
   ]
  },
  {
   "cell_type": "code",
   "execution_count": null,
   "metadata": {},
   "outputs": [],
   "source": [
    "# Import the modules\n",
    "import requests\n",
    "import json"
   ]
  },
  {
   "cell_type": "code",
   "execution_count": null,
   "metadata": {},
   "outputs": [],
   "source": [
    "# Define my API Key, My Endpoint, and My Header\n",
    "API_KEY = 'YOUR API KEY'\n",
    "HEADERS = {'Authorization': 'bearer %s' % API_KEY}\n",
    "ENDPOINT = 'https://api.yelp.com/v3/businesses/search'"
   ]
  },
  {
   "cell_type": "markdown",
   "metadata": {},
   "source": [
    "How do we find all businesses with a particular city?\n",
    "How do we find all businesses of a particular category (e.g. food)?\n",
    "Below, we use Business \"Search\" API to find all restaurants in San Francisco.\n",
    "\n",
    "Refer to this API documentation for details on what parameters can be set:\n",
    "https://www.yelp.com/developers/documentation/v3/business_search\n",
    "\n",
    "term: 'food' or 'restaurants' (it can also be a specific business name such as Starbucks)\n",
    "\n",
    "location: (required if either latitude or longitude is not provided) a city name would do, e.g. \"New York City\"\n",
    "radius (in meters), e.g. 40000 meters is about 25 miles\n",
    "\n",
    "limit (optional): number of business results to return (by default, it is 20), maximum is 50\n",
    "\n",
    "offset (optional): offset the list of returned business results by this amount"
   ]
  },
  {
   "cell_type": "code",
   "execution_count": null,
   "metadata": {},
   "outputs": [],
   "source": [
    "PARAMETERS = {'term': 'food',\n",
    "             'limit': 50,\n",
    "             'offset': 50,\n",
    "             'radius': 10000,\n",
    "             'location': 'San Francisco'}"
   ]
  },
  {
   "cell_type": "code",
   "execution_count": null,
   "metadata": {},
   "outputs": [],
   "source": [
    "# Make a request to the Yelp API\n",
    "response = requests.get(url = ENDPOINT,\n",
    "                        params = PARAMETERS,\n",
    "                        headers = HEADERS)\n",
    "\n",
    "# Conver the JSON String\n",
    "business_search_results = response.json()\n",
    "\n",
    "# print the response\n",
    "print(json.dumps(business_search_results, indent = 3))"
   ]
  },
  {
   "cell_type": "code",
   "execution_count": null,
   "metadata": {},
   "outputs": [],
   "source": [
    "# Retrieve each business & display its attributes\n",
    "\n",
    "# Note that 'id' attribute is important - it is later used to search Business Reviews API\n",
    "# to retrieve review comments\n",
    "\n",
    "for result in business_search_results['businesses']:\n",
    "    print(\"============== business ============\")\n",
    "    print(\"id: \", result['id'])\n",
    "    print(\"name: \", result['name'])\n",
    "    print(\"# of reviews: \", result['review_count'])\n",
    "    print(\"rating: \", result['rating'])\n",
    "    if 'price' in result:\n",
    "        print(\"price: \", result['price'])\n",
    "    else:\n",
    "        print(\"price: NOT_AVAILABLE\")\n",
    "    print(\"location: \", result['location']['display_address'])"
   ]
  },
  {
   "cell_type": "markdown",
   "metadata": {},
   "source": [
    "Below, we show how to retrieve user \"reviews\" for a specific business (identified by business ID).\n",
    "\n",
    "We were able to retrieve IDs of businesses.\n",
    "\n",
    "If you know a specific business' id, you can call Yelp's Business Reviews API,\n",
    "and retrieve user reviews."
   ]
  },
  {
   "cell_type": "code",
   "execution_count": null,
   "metadata": {},
   "outputs": [],
   "source": [
    "# Define a business ID\n",
    "business_id = 'DhCJ7D47swvT5DdsC0PCGQ'"
   ]
  },
  {
   "cell_type": "code",
   "execution_count": null,
   "metadata": {},
   "outputs": [],
   "source": [
    "# Change ENDPOINT to Business Reviews API\n",
    "ENDPOINT = 'https://api.yelp.com/v3/businesses/{}/reviews'.format(business_id)"
   ]
  },
  {
   "cell_type": "code",
   "execution_count": null,
   "metadata": {},
   "outputs": [],
   "source": [
    "# Define my parameters of the search\n",
    "# BUSINESS SEARCH PARAMETERS - EXAMPLE\n",
    "# PARAMETERS = {'term': 'food',\n",
    "#              'limit': 50,\n",
    "#              'offset': 50,\n",
    "#              'radius': 10000,\n",
    "#              'location': 'San Diego'}\n",
    "\n",
    "# BUSINESS MATCH PARAMETERS - EXAMPLE\n",
    "#PARAMETERS = {'name': 'Peets Coffee & Tea',\n",
    "#              'address1': '7845 Highland Village Pl',\n",
    "#              'city': 'San Diego',\n",
    "#              'state': 'CA',\n",
    "#              'country': 'US'}"
   ]
  },
  {
   "cell_type": "code",
   "execution_count": null,
   "metadata": {},
   "outputs": [],
   "source": [
    "# Make a request to the Yelp API\n",
    "# response = requests.get(url = ENDPOINT,\n",
    "#                         params = PARAMETERS,\n",
    "#                         headers = HEADERS)\n",
    "\n",
    "response = requests.get(url = ENDPOINT,\n",
    "                        headers = HEADERS)\n",
    "\n",
    "# Conver the JSON String\n",
    "business_data = response.json()\n",
    "\n",
    "# print the response\n",
    "print(json.dumps(business_data, indent = 3))"
   ]
  },
  {
   "cell_type": "code",
   "execution_count": null,
   "metadata": {},
   "outputs": [],
   "source": [
    "# Retrieve only reviews\n",
    "for review in business_data['reviews']:\n",
    "    print(\"========== review ==========\")\n",
    "    print(review['id'])\n",
    "    print(review['url'])\n",
    "    print(review['text'])"
   ]
  },
  {
   "cell_type": "code",
   "execution_count": null,
   "metadata": {},
   "outputs": [],
   "source": []
  }
 ],
 "metadata": {
  "kernelspec": {
   "display_name": "Python 3 (ipykernel)",
   "language": "python",
   "name": "python3"
  },
  "language_info": {
   "codemirror_mode": {
    "name": "ipython",
    "version": 3
   },
   "file_extension": ".py",
   "mimetype": "text/x-python",
   "name": "python",
   "nbconvert_exporter": "python",
   "pygments_lexer": "ipython3",
   "version": "3.9.7"
  }
 },
 "nbformat": 4,
 "nbformat_minor": 2
}
