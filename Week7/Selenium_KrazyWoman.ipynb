{
 "cells": [
  {
   "cell_type": "markdown",
   "id": "11addd73",
   "metadata": {},
   "source": [
    "Web Crawling & Scraping (KrazyWoman Dynamic Webpage)\n",
    "\n",
    "Web Scraping using Python\n",
    "\n",
    "We use BeautifulSoup package in Python - to perform web scraping, whereby\n",
    "we attempt to extract out only certain text content.\n",
    "\n",
    "In this lab, we attempt to scrape Kyong's dynamically rendered webpage:\n",
    "http://localhost/is434/dynamic.html\n",
    "\n",
    "We are particularly interested in extracting her \"friends\" list.\n",
    "We want to retrieve her friends' names from an un-ordered list and output to console."
   ]
  },
  {
   "cell_type": "code",
   "execution_count": null,
   "id": "ac3f00e6",
   "metadata": {},
   "outputs": [],
   "source": [
    "######## Step 1 ########\n",
    "import requests\n",
    "from bs4 import BeautifulSoup"
   ]
  },
  {
   "cell_type": "code",
   "execution_count": null,
   "id": "18c628d2",
   "metadata": {},
   "outputs": [],
   "source": [
    "######## Step 2 ########\n",
    "source_path = \"http://localhost/is434/dynamic.html\"\n",
    "page = requests.get(source_path)\n",
    "page_content = page.content"
   ]
  },
  {
   "cell_type": "code",
   "execution_count": null,
   "id": "90b22ae6",
   "metadata": {},
   "outputs": [],
   "source": [
    "######## Step 3 ########\n",
    "soup = BeautifulSoup(page_content, 'html.parser')\n",
    "print (soup.prettify())"
   ]
  },
  {
   "cell_type": "markdown",
   "id": "be4ed12a",
   "metadata": {},
   "source": [
    "# Look at \"my-friends\" un-ordered list.\n",
    "# It appears that... the list is empty.\n",
    "# But that's NOT true.\n",
    "# If you open the same URL in a web browser, you will see 6 friends' names.\n",
    "# This way of crawling a webpage will not work because it does not crawl \"rendered\" webpage."
   ]
  },
  {
   "cell_type": "code",
   "execution_count": null,
   "id": "22aacdd5",
   "metadata": {},
   "outputs": [],
   "source": [
    "from selenium import webdriver\n",
    "from selenium.webdriver.chrome.options import Options\n",
    "from bs4 import BeautifulSoup as bs\n",
    "import time\n",
    "import re\n",
    "from urllib.request import urlopen\n",
    "import json\n",
    "from pandas.io.json import json_normalize\n",
    "import pandas as pd, numpy as np"
   ]
  },
  {
   "cell_type": "code",
   "execution_count": null,
   "id": "51843420",
   "metadata": {},
   "outputs": [],
   "source": [
    "# Open the web browser\n",
    "source_url = 'http://localhost/is434/dynamic.html'\n",
    "browser = webdriver.Chrome()\n",
    "browser.get(source_url)"
   ]
  },
  {
   "cell_type": "code",
   "execution_count": null,
   "id": "4d58a94f",
   "metadata": {},
   "outputs": [],
   "source": [
    "'''\n",
    "Parse HTML source page\n",
    "Open the source page and use beautiful soup to parse it.\n",
    "'''\n",
    "\n",
    "friends = []\n",
    "\n",
    "source = browser.page_source\n",
    "data = bs(source, 'html.parser')\n",
    "\n",
    "\n",
    "# YOUR CODE GOES HERE\n",
    "    \n",
    "\n",
    "print(\"------------------------------------------------\")\n",
    "print(\"Kyong has \" + str(len(friends)) + \" friends\")"
   ]
  }
 ],
 "metadata": {
  "kernelspec": {
   "display_name": "Python 3 (ipykernel)",
   "language": "python",
   "name": "python3"
  },
  "language_info": {
   "codemirror_mode": {
    "name": "ipython",
    "version": 3
   },
   "file_extension": ".py",
   "mimetype": "text/x-python",
   "name": "python",
   "nbconvert_exporter": "python",
   "pygments_lexer": "ipython3",
   "version": "3.9.7"
  }
 },
 "nbformat": 4,
 "nbformat_minor": 5
}
